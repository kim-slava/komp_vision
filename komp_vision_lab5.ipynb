{
  "nbformat": 4,
  "nbformat_minor": 0,
  "metadata": {
    "colab": {
      "provenance": [],
      "authorship_tag": "ABX9TyMp19Ie0GC42xDn8cqsy46U",
      "include_colab_link": true
    },
    "kernelspec": {
      "name": "python3",
      "display_name": "Python 3"
    },
    "language_info": {
      "name": "python"
    },
    "accelerator": "GPU",
    "gpuClass": "standard"
  },
  "cells": [
    {
      "cell_type": "markdown",
      "metadata": {
        "id": "view-in-github",
        "colab_type": "text"
      },
      "source": [
        "<a href=\"https://colab.research.google.com/github/kim-slava/komp_vision/blob/main/komp_vision_lab5.ipynb\" target=\"_parent\"><img src=\"https://colab.research.google.com/assets/colab-badge.svg\" alt=\"Open In Colab\"/></a>"
      ]
    },
    {
      "cell_type": "code",
      "execution_count": null,
      "metadata": {
        "id": "oTk-GDyfz1xm"
      },
      "outputs": [],
      "source": [
        "import tensorflow as tf\n",
        "import matplotlib.pyplot as plt\n",
        "import numpy as np"
      ]
    },
    {
      "cell_type": "code",
      "source": [
        "(x_train, y_train), (x_test, y_test) = tf.keras.datasets.mnist.load_data()\n",
        "x_train, x_test = x_train / 255.0, x_test / 255.0  ## Нормализуем значения яркости, что бы вписать их в диапазон 0..1\n",
        "print(f\"Количество изображений обучающих: {len(x_train)}, тестовых {len(x_test)}, размер изображений {x_train.shape[1]}x{x_train.shape[2]}\")"
      ],
      "metadata": {
        "colab": {
          "base_uri": "https://localhost:8080/"
        },
        "id": "rZu3WnIY0pq5",
        "outputId": "aba86e23-7509-409f-c120-301884405df6"
      },
      "execution_count": null,
      "outputs": [
        {
          "output_type": "stream",
          "name": "stdout",
          "text": [
            "Downloading data from https://storage.googleapis.com/tensorflow/tf-keras-datasets/mnist.npz\n",
            "11490434/11490434 [==============================] - 2s 0us/step\n",
            "Количество изображений обучающих: 60000, тестовых 10000, размер изображений 28x28\n"
          ]
        }
      ]
    },
    {
      "cell_type": "code",
      "source": [
        "for i in range(10):\n",
        "  plt.subplot(1,10,i+1)\n",
        "  plt.imshow(x_test[i])\n",
        "  plt.title(y_test[i])\n",
        "plt.show()"
      ],
      "metadata": {
        "colab": {
          "base_uri": "https://localhost:8080/",
          "height": 125
        },
        "id": "JqjphjZg004m",
        "outputId": "191600b9-de7e-4e9c-d331-1e4344a5c1d1"
      },
      "execution_count": null,
      "outputs": [
        {
          "output_type": "display_data",
          "data": {
            "text/plain": [
              "<Figure size 640x480 with 10 Axes>"
            ],
            "image/png": "[encoded data removed]"
          },
          "metadata": {}
        }
      ]
    },
    {
      "cell_type": "code",
      "source": [
        "model_2= tf.keras.models.Sequential([\n",
        "  # Cверточный слой: размер ядра 3*3, 1 канал на входе, 64 на выходе.\n",
        "  # Форма тензора на входе (,28,28,1) трансформируется в (26,26,32)\n",
        "  tf.keras.layers.Conv2D(32, (3,3), padding='same', input_shape=(28, 28, 1), activation='relu'),\n",
        "\n",
        "  # Слой max-выборки: размер ядра 2*2, используется для уменьшения объема данных\n",
        "  # Форма тензора на входе (,26,26,32) трансформируется в (13,13,32)\n",
        "  tf.keras.layers.MaxPool2D((2,2)),\n",
        "\n",
        "  # Заканчиваем сеть персептроном\n",
        "  # На входе (,13,13,32) -> (,5408)\n",
        "  tf.keras.layers.Flatten(),\n",
        "  # На входе (,5408) -> (,128)\n",
        "  tf.keras.layers.Dense(128, activation='relu'),\n",
        "  tf.keras.layers.Dropout(0.2),\n",
        "  # На входе (,128) -> (,10)\n",
        "  tf.keras.layers.Dense(10, activation='softmax')\n",
        "])\n",
        "\n",
        "model_2.compile(optimizer='adam',\n",
        "              loss='sparse_categorical_crossentropy',\n",
        "              metrics=['accuracy'])"
      ],
      "metadata": {
        "id": "EQ0JO5rO5zlm"
      },
      "execution_count": null,
      "outputs": []
    },
    {
      "cell_type": "code",
      "source": [
        "model_2.summary()"
      ],
      "metadata": {
        "colab": {
          "base_uri": "https://localhost:8080/"
        },
        "id": "4lbGkEvB6Uab",
        "outputId": "258e838c-78a6-44e0-9365-3345e2868cf0"
      },
      "execution_count": null,
      "outputs": [
        {
          "output_type": "stream",
          "name": "stdout",
          "text": [
            "Model: \"sequential_4\"\n",
            "_________________________________________________________________\n",
            " Layer (type)                Output Shape              Param #   \n",
            "=================================================================\n",
            " conv2d_11 (Conv2D)          (None, 28, 28, 32)        320       \n",
            "                                                                 \n",
            " max_pooling2d_11 (MaxPoolin  (None, 14, 14, 32)       0         \n",
            " g2D)                                                            \n",
            "                                                                 \n",
            " flatten_4 (Flatten)         (None, 6272)              0         \n",
            "                                                                 \n",
            " dense_8 (Dense)             (None, 128)               802944    \n",
            "                                                                 \n",
            " dropout_4 (Dropout)         (None, 128)               0         \n",
            "                                                                 \n",
            " dense_9 (Dense)             (None, 10)                1290      \n",
            "                                                                 \n",
            "=================================================================\n",
            "Total params: 804,554\n",
            "Trainable params: 804,554\n",
            "Non-trainable params: 0\n",
            "_________________________________________________________________\n"
          ]
        }
      ]
    },
    {
      "cell_type": "code",
      "source": [
        "x_train_4d = x_train.reshape(-1, 28, 28, 1),\n",
        "x_test_4d = x_test.reshape(-1, 28, 28, 1)\n",
        "model_2.fit(x_train_4d, y_train, epochs=5)\n",
        "model_2.evaluate(x_test_4d, y_test)"
      ],
      "metadata": {
        "colab": {
          "base_uri": "https://localhost:8080/"
        },
        "id": "V9-t7YNe6iAd",
        "outputId": "762e442a-d964-454b-88fc-be99d68a8051"
      },
      "execution_count": null,
      "outputs": [
        {
          "output_type": "stream",
          "name": "stdout",
          "text": [
            "Epoch 1/5\n",
            "1875/1875 [==============================] - 6s 3ms/step - loss: 0.1612 - accuracy: 0.9512\n",
            "Epoch 2/5\n",
            "1875/1875 [==============================] - 6s 3ms/step - loss: 0.0595 - accuracy: 0.9816\n",
            "Epoch 3/5\n",
            "1875/1875 [==============================] - 6s 3ms/step - loss: 0.0415 - accuracy: 0.9867\n",
            "Epoch 4/5\n",
            "1875/1875 [==============================] - 6s 3ms/step - loss: 0.0301 - accuracy: 0.9907\n",
            "Epoch 5/5\n",
            "1875/1875 [==============================] - 6s 3ms/step - loss: 0.0226 - accuracy: 0.9931\n",
            "313/313 [==============================] - 1s 2ms/step - loss: 0.0442 - accuracy: 0.9868\n"
          ]
        },
        {
          "output_type": "execute_result",
          "data": {
            "text/plain": [
              "[0.04418357089161873, 0.9868000149726868]"
            ]
          },
          "metadata": {},
          "execution_count": 19
        }
      ]
    },
    {
      "cell_type": "code",
      "source": [
        "model_3= tf.keras.models.Sequential([\n",
        "  # Cверточный слой: размер ядра 3*3, 1 канал на входе, 64 на выходе.\n",
        "  # Форма тензора на входе (,28,28,1) трансформируется в (26,26,32)\n",
        "  tf.keras.layers.Conv2D(32, (3,3), padding='same', input_shape=(28, 28, 1), activation='relu'),\n",
        "  # Слой max-выборки: размер ядра 2*2\n",
        "  # Форма тензора на входе (,26,26,32) трансформируется в (13,13,32)\n",
        "  tf.keras.layers.MaxPool2D((2,2)),\n",
        "\n",
        "  # Второй сверточный слой\n",
        "  # Форма тензора на входе (,13,13,32) -> (11,11,64)\n",
        "  tf.keras.layers.Conv2D(32, (3,3), padding='same', activation='relu'),\n",
        "  # max-выборка: (,11,11,64) -> (5,5,64)\n",
        "  tf.keras.layers.MaxPool2D((2,2)),\n",
        "\n",
        "  # Заканчиваем сеть персептроном\n",
        "  # На входе (,5,5,32) -> (,800)\n",
        "  tf.keras.layers.Flatten(),\n",
        "  # На входе (,5408) -> (,128)\n",
        "  tf.keras.layers.Dense(128, activation='relu'),\n",
        "  tf.keras.layers.Dropout(0.2),\n",
        "  # На входе (,128) -> (,10)\n",
        "  tf.keras.layers.Dense(10, activation='softmax')\n",
        "\n",
        "])\n",
        "\n",
        "model_3.compile(optimizer='adam',\n",
        "              loss='sparse_categorical_crossentropy',\n",
        "              metrics=['accuracy'])"
      ],
      "metadata": {
        "id": "Zl_YU-801IG-"
      },
      "execution_count": null,
      "outputs": []
    },
    {
      "cell_type": "code",
      "source": [
        "model_3.summary()"
      ],
      "metadata": {
        "colab": {
          "base_uri": "https://localhost:8080/"
        },
        "id": "dmFXagyd1l4y",
        "outputId": "a8692e05-039b-42fc-a345-14f881109c59"
      },
      "execution_count": null,
      "outputs": [
        {
          "output_type": "stream",
          "name": "stdout",
          "text": [
            "Model: \"sequential_7\"\n",
            "_________________________________________________________________\n",
            " Layer (type)                Output Shape              Param #   \n",
            "=================================================================\n",
            " conv2d_16 (Conv2D)          (None, 28, 28, 32)        320       \n",
            "                                                                 \n",
            " max_pooling2d_16 (MaxPoolin  (None, 14, 14, 32)       0         \n",
            " g2D)                                                            \n",
            "                                                                 \n",
            " conv2d_17 (Conv2D)          (None, 14, 14, 32)        9248      \n",
            "                                                                 \n",
            " max_pooling2d_17 (MaxPoolin  (None, 7, 7, 32)         0         \n",
            " g2D)                                                            \n",
            "                                                                 \n",
            " flatten_7 (Flatten)         (None, 1568)              0         \n",
            "                                                                 \n",
            " dense_14 (Dense)            (None, 128)               200832    \n",
            "                                                                 \n",
            " dropout_7 (Dropout)         (None, 128)               0         \n",
            "                                                                 \n",
            " dense_15 (Dense)            (None, 10)                1290      \n",
            "                                                                 \n",
            "=================================================================\n",
            "Total params: 211,690\n",
            "Trainable params: 211,690\n",
            "Non-trainable params: 0\n",
            "_________________________________________________________________\n"
          ]
        }
      ]
    },
    {
      "cell_type": "code",
      "source": [
        "model_3.fit(x_train_4d, y_train, epochs=5)\n",
        "model_3.evaluate(x_test_4d, y_test)"
      ],
      "metadata": {
        "colab": {
          "base_uri": "https://localhost:8080/"
        },
        "id": "Rij7bp-B1pu7",
        "outputId": "da394cae-9417-4553-aa67-b36dce459520"
      },
      "execution_count": null,
      "outputs": [
        {
          "output_type": "stream",
          "name": "stdout",
          "text": [
            "Epoch 1/5\n",
            "1875/1875 [==============================] - 8s 4ms/step - loss: 0.1564 - accuracy: 0.9510\n",
            "Epoch 2/5\n",
            "1875/1875 [==============================] - 6s 3ms/step - loss: 0.0509 - accuracy: 0.9844\n",
            "Epoch 3/5\n",
            "1875/1875 [==============================] - 7s 4ms/step - loss: 0.0359 - accuracy: 0.9885\n",
            "Epoch 4/5\n",
            "1875/1875 [==============================] - 7s 4ms/step - loss: 0.0273 - accuracy: 0.9913\n",
            "Epoch 5/5\n",
            "1875/1875 [==============================] - 7s 4ms/step - loss: 0.0227 - accuracy: 0.9929\n",
            "313/313 [==============================] - 1s 2ms/step - loss: 0.0256 - accuracy: 0.9912\n"
          ]
        },
        {
          "output_type": "execute_result",
          "data": {
            "text/plain": [
              "[0.025640979409217834, 0.9911999702453613]"
            ]
          },
          "metadata": {},
          "execution_count": 29
        }
      ]
    },
    {
      "cell_type": "code",
      "source": [
        "model_4= tf.keras.models.Sequential([\n",
        "  # Cверточный слой: размер ядра 3*3, 1 канал на входе, 64 на выходе.\n",
        "  # Форма тензора на входе (,28,28,1) трансформируется в (,28,28,32)\n",
        "  tf.keras.layers.Conv2D(32, (3,3), padding='same', input_shape=(28, 28, 1), activation='relu'),\n",
        "  # Слой max-выборки: размер ядра 2*2\n",
        "  # Форма тензора на входе (,28,28,32) трансформируется в (14,14,32)\n",
        "  tf.keras.layers.MaxPool2D((2,2)),\n",
        "\n",
        "  # Второй сверточный слой\n",
        "  # Форма тензора на входе (,14,14,32) -> (14,14,64)\n",
        "  tf.keras.layers.Conv2D(32, (3,3), padding='same', activation='relu'),\n",
        "  # max-выборка: (,14,14,64) -> (7,7,64)\n",
        "  tf.keras.layers.MaxPool2D((2,2)),\n",
        "\n",
        "  # Третий сверточный слой\n",
        "  # Форма тензора на входе (,7,7,32) -> (7,7,64)\n",
        "  tf.keras.layers.Conv2D(32, (3,3), padding='same', activation='relu'),\n",
        "  # max-выборка: (7,7,64) -> (3,3,64)\n",
        "  tf.keras.layers.MaxPool2D((2,2)),\n",
        "\n",
        "\n",
        "  # Заканчиваем сеть персептроном\n",
        "  # На входе (,5,5,32) -> (,800)\n",
        "  tf.keras.layers.Flatten(),\n",
        "  # На входе (,5408) -> (,128)\n",
        "  tf.keras.layers.Dense(128, activation='relu'),\n",
        "  tf.keras.layers.Dropout(0.2),\n",
        "  # На входе (,128) -> (,10)\n",
        "  tf.keras.layers.Dense(10, activation='softmax')\n",
        "\n",
        "])\n",
        "\n",
        "model_4.compile(optimizer='adam',\n",
        "              loss='sparse_categorical_crossentropy',\n",
        "              metrics=['accuracy'])"
      ],
      "metadata": {
        "id": "L0CGlb7W3neA"
      },
      "execution_count": null,
      "outputs": []
    },
    {
      "cell_type": "code",
      "source": [
        "model_4.summary()"
      ],
      "metadata": {
        "colab": {
          "base_uri": "https://localhost:8080/"
        },
        "id": "Dm1UNppu40I4",
        "outputId": "5d172742-2767-43a1-82ec-a7f415e3edd7"
      },
      "execution_count": null,
      "outputs": [
        {
          "output_type": "stream",
          "name": "stdout",
          "text": [
            "Model: \"sequential_8\"\n",
            "_________________________________________________________________\n",
            " Layer (type)                Output Shape              Param #   \n",
            "=================================================================\n",
            " conv2d_18 (Conv2D)          (None, 28, 28, 32)        320       \n",
            "                                                                 \n",
            " max_pooling2d_18 (MaxPoolin  (None, 14, 14, 32)       0         \n",
            " g2D)                                                            \n",
            "                                                                 \n",
            " conv2d_19 (Conv2D)          (None, 14, 14, 32)        9248      \n",
            "                                                                 \n",
            " max_pooling2d_19 (MaxPoolin  (None, 7, 7, 32)         0         \n",
            " g2D)                                                            \n",
            "                                                                 \n",
            " conv2d_20 (Conv2D)          (None, 7, 7, 32)          9248      \n",
            "                                                                 \n",
            " max_pooling2d_20 (MaxPoolin  (None, 3, 3, 32)         0         \n",
            " g2D)                                                            \n",
            "                                                                 \n",
            " flatten_8 (Flatten)         (None, 288)               0         \n",
            "                                                                 \n",
            " dense_16 (Dense)            (None, 128)               36992     \n",
            "                                                                 \n",
            " dropout_8 (Dropout)         (None, 128)               0         \n",
            "                                                                 \n",
            " dense_17 (Dense)            (None, 10)                1290      \n",
            "                                                                 \n",
            "=================================================================\n",
            "Total params: 57,098\n",
            "Trainable params: 57,098\n",
            "Non-trainable params: 0\n",
            "_________________________________________________________________\n"
          ]
        }
      ]
    },
    {
      "cell_type": "code",
      "source": [
        "model_4.fit(x_train_4d, y_train, epochs=5)\n",
        "model_4.evaluate(x_test_4d, y_test)"
      ],
      "metadata": {
        "colab": {
          "base_uri": "https://localhost:8080/"
        },
        "id": "d3d5bFQ62e4W",
        "outputId": "e484767c-5e1e-43e8-da25-d86b20f86338"
      },
      "execution_count": null,
      "outputs": [
        {
          "output_type": "stream",
          "name": "stdout",
          "text": [
            "Epoch 1/5\n",
            "1875/1875 [==============================] - 9s 4ms/step - loss: 0.1963 - accuracy: 0.9389\n",
            "Epoch 2/5\n",
            "1875/1875 [==============================] - 7s 4ms/step - loss: 0.0599 - accuracy: 0.9813\n",
            "Epoch 3/5\n",
            "1875/1875 [==============================] - 7s 4ms/step - loss: 0.0446 - accuracy: 0.9871\n",
            "Epoch 4/5\n",
            "1875/1875 [==============================] - 7s 4ms/step - loss: 0.0352 - accuracy: 0.9888\n",
            "Epoch 5/5\n",
            "1875/1875 [==============================] - 7s 4ms/step - loss: 0.0295 - accuracy: 0.9911\n",
            "313/313 [==============================] - 1s 2ms/step - loss: 0.0256 - accuracy: 0.9915\n"
          ]
        },
        {
          "output_type": "execute_result",
          "data": {
            "text/plain": [
              "[0.02562587894499302, 0.9915000200271606]"
            ]
          },
          "metadata": {},
          "execution_count": 32
        }
      ]
    },
    {
      "cell_type": "code",
      "source": [
        "model_4.fit(x_train_4d, y_train, epochs=5)\n",
        "model_4.evaluate(x_test_4d, y_test)"
      ],
      "metadata": {
        "colab": {
          "base_uri": "https://localhost:8080/"
        },
        "id": "GtYuP9qI83rd",
        "outputId": "8ce722d3-ae2d-48fe-fa5c-0ea325db70dd"
      },
      "execution_count": null,
      "outputs": [
        {
          "output_type": "stream",
          "name": "stdout",
          "text": [
            "Epoch 1/5\n",
            "1875/1875 [==============================] - 7s 4ms/step - loss: 0.0264 - accuracy: 0.9918\n",
            "Epoch 2/5\n",
            "1875/1875 [==============================] - 7s 4ms/step - loss: 0.0207 - accuracy: 0.9931\n",
            "Epoch 3/5\n",
            "1875/1875 [==============================] - 7s 4ms/step - loss: 0.0182 - accuracy: 0.9939\n",
            "Epoch 4/5\n",
            "1875/1875 [==============================] - 8s 4ms/step - loss: 0.0169 - accuracy: 0.9948\n",
            "Epoch 5/5\n",
            "1875/1875 [==============================] - 7s 4ms/step - loss: 0.0154 - accuracy: 0.9950\n",
            "313/313 [==============================] - 1s 2ms/step - loss: 0.0282 - accuracy: 0.9918\n"
          ]
        },
        {
          "output_type": "execute_result",
          "data": {
            "text/plain": [
              "[0.0282262172549963, 0.9918000102043152]"
            ]
          },
          "metadata": {},
          "execution_count": 36
        }
      ]
    },
    {
      "cell_type": "code",
      "source": [
        "model_5= tf.keras.models.Sequential([\n",
        "  # Cверточный слой: размер ядра 3*3, 1 канал на входе, 64 на выходе.\n",
        "  # Форма тензора на входе (,28,28,1) трансформируется в (,28,28,32)\n",
        "  tf.keras.layers.Conv2D(32, (3,3), padding='same', input_shape=(28, 28, 1), activation='relu'),\n",
        "  # Слой max-выборки: размер ядра 2*2\n",
        "  # Форма тензора на входе (,28,28,32) трансформируется в (14,14,32)\n",
        "  tf.keras.layers.MaxPool2D((2,2)),\n",
        "\n",
        "  # Второй сверточный слой\n",
        "  # Форма тензора на входе (,14,14,32) -> (14,14,64)\n",
        "  tf.keras.layers.Conv2D(32, (3,3), padding='same', activation='relu'),\n",
        "  # max-выборка: (,14,14,64) -> (7,7,64)\n",
        "  tf.keras.layers.MaxPool2D((2,2)),\n",
        "\n",
        "  # Третий сверточный слой\n",
        "  # Форма тензора на входе (,7,7,32) -> (7,7,64)\n",
        "  tf.keras.layers.Conv2D(32, (3,3), padding='same', activation='relu'),\n",
        "  # max-выборка: (7,7,64) -> (3,3,64)\n",
        "  tf.keras.layers.MaxPool2D((2,2)),\n",
        "\n",
        "  # Четвертый сверточный слой\n",
        "  # Форма тензора на входе (,7,7,32) -> (7,7,64)\n",
        "  tf.keras.layers.Conv2D(32, (3,3), padding='same', activation='relu'),\n",
        "  # max-выборка: (7,7,64) -> (3,3,64)\n",
        "  tf.keras.layers.MaxPool2D((2,2)),\n",
        "\n",
        "\n",
        "  # Заканчиваем сеть персептроном\n",
        "  # На входе (,5,5,32) -> (,800)\n",
        "  tf.keras.layers.Flatten(),\n",
        "  # На входе (,5408) -> (,128)\n",
        "  tf.keras.layers.Dense(128, activation='relu'),\n",
        "  tf.keras.layers.Dropout(0.2),\n",
        "  # На входе (,128) -> (,10)\n",
        "  tf.keras.layers.Dense(10, activation='softmax')\n",
        "\n",
        "])\n",
        "\n",
        "model_5.compile(optimizer='adam',\n",
        "              loss='sparse_categorical_crossentropy',\n",
        "              metrics=['accuracy'])"
      ],
      "metadata": {
        "id": "b77QCyPJ8hEy"
      },
      "execution_count": null,
      "outputs": []
    },
    {
      "cell_type": "code",
      "source": [
        "model_5.summary()"
      ],
      "metadata": {
        "colab": {
          "base_uri": "https://localhost:8080/"
        },
        "id": "9fvji72T8tNP",
        "outputId": "0956d907-8a38-4cbc-808d-4f340a34fe1e"
      },
      "execution_count": null,
      "outputs": [
        {
          "output_type": "stream",
          "name": "stdout",
          "text": [
            "Model: \"sequential_10\"\n",
            "_________________________________________________________________\n",
            " Layer (type)                Output Shape              Param #   \n",
            "=================================================================\n",
            " conv2d_24 (Conv2D)          (None, 28, 28, 32)        320       \n",
            "                                                                 \n",
            " max_pooling2d_24 (MaxPoolin  (None, 14, 14, 32)       0         \n",
            " g2D)                                                            \n",
            "                                                                 \n",
            " conv2d_25 (Conv2D)          (None, 14, 14, 32)        9248      \n",
            "                                                                 \n",
            " max_pooling2d_25 (MaxPoolin  (None, 7, 7, 32)         0         \n",
            " g2D)                                                            \n",
            "                                                                 \n",
            " conv2d_26 (Conv2D)          (None, 7, 7, 32)          9248      \n",
            "                                                                 \n",
            " max_pooling2d_26 (MaxPoolin  (None, 3, 3, 32)         0         \n",
            " g2D)                                                            \n",
            "                                                                 \n",
            " conv2d_27 (Conv2D)          (None, 3, 3, 32)          9248      \n",
            "                                                                 \n",
            " max_pooling2d_27 (MaxPoolin  (None, 1, 1, 32)         0         \n",
            " g2D)                                                            \n",
            "                                                                 \n",
            " flatten_10 (Flatten)        (None, 32)                0         \n",
            "                                                                 \n",
            " dense_20 (Dense)            (None, 128)               4224      \n",
            "                                                                 \n",
            " dropout_10 (Dropout)        (None, 128)               0         \n",
            "                                                                 \n",
            " dense_21 (Dense)            (None, 10)                1290      \n",
            "                                                                 \n",
            "=================================================================\n",
            "Total params: 33,578\n",
            "Trainable params: 33,578\n",
            "Non-trainable params: 0\n",
            "_________________________________________________________________\n"
          ]
        }
      ]
    },
    {
      "cell_type": "code",
      "source": [
        "model_5.fit(x_train_4d, y_train, epochs=7)\n",
        "model_5.evaluate(x_test_4d, y_test)"
      ],
      "metadata": {
        "colab": {
          "base_uri": "https://localhost:8080/"
        },
        "id": "KdZ0GLt89O_a",
        "outputId": "0ca73d4f-30f3-4a07-de39-5dbe869b85a0"
      },
      "execution_count": null,
      "outputs": [
        {
          "output_type": "stream",
          "name": "stdout",
          "text": [
            "Epoch 1/7\n",
            "1875/1875 [==============================] - 11s 5ms/step - loss: 0.2294 - accuracy: 0.9267\n",
            "Epoch 2/7\n",
            "1875/1875 [==============================] - 8s 4ms/step - loss: 0.0701 - accuracy: 0.9792\n",
            "Epoch 3/7\n",
            "1875/1875 [==============================] - 8s 4ms/step - loss: 0.0498 - accuracy: 0.9850\n",
            "Epoch 4/7\n",
            "1875/1875 [==============================] - 8s 4ms/step - loss: 0.0391 - accuracy: 0.9881\n",
            "Epoch 5/7\n",
            "1875/1875 [==============================] - 8s 4ms/step - loss: 0.0325 - accuracy: 0.9897\n",
            "Epoch 6/7\n",
            "1875/1875 [==============================] - 8s 4ms/step - loss: 0.0269 - accuracy: 0.9917\n",
            "Epoch 7/7\n",
            "1875/1875 [==============================] - 8s 4ms/step - loss: 0.0241 - accuracy: 0.9927\n",
            "313/313 [==============================] - 1s 3ms/step - loss: 0.0345 - accuracy: 0.9895\n"
          ]
        },
        {
          "output_type": "execute_result",
          "data": {
            "text/plain": [
              "[0.034488946199417114, 0.9894999861717224]"
            ]
          },
          "metadata": {},
          "execution_count": 38
        }
      ]
    },
    {
      "cell_type": "code",
      "source": [
        "acc_train = model_5.evaluate(x_train_4d, y_train)[1]\n",
        "acc_test = model_5.evaluate(x_test_4d, y_test)[1]\n",
        "print(f\"Accuracy на обучающей выборке {acc_train:.4}, на тестовой {acc_test:.4}\")"
      ],
      "metadata": {
        "id": "pyGKgo819Tvm"
      },
      "execution_count": null,
      "outputs": []
    },
    {
      "cell_type": "code",
      "source": [
        "model_6= tf.keras.models.Sequential([\n",
        "  # Cверточный слой: размер ядра 3*3, 1 канал на входе, 64 на выходе.\n",
        "  # Форма тензора на входе (,28,28,1) трансформируется в (,28,28,32)\n",
        "  tf.keras.layers.Conv2D(32, (3,3), padding='same', input_shape=(28, 28, 1), activation='relu'),\n",
        "  # Слой max-выборки: размер ядра 2*2\n",
        "  # Форма тензора на входе (,28,28,32) трансформируется в (14,14,32)\n",
        "  tf.keras.layers.MaxPool2D((2,2)),\n",
        "\n",
        "  # Второй сверточный слой\n",
        "  # Форма тензора на входе (,14,14,32) -> (14,14,64)\n",
        "  tf.keras.layers.Conv2D(32, (3,3), padding='same', activation='relu'),\n",
        "  # max-выборка: (,14,14,64) -> (7,7,64)\n",
        "  tf.keras.layers.MaxPool2D((2,2)),\n",
        "\n",
        "  # Третий сверточный слой\n",
        "  # Форма тензора на входе (,7,7,32) -> (7,7,64)\n",
        "  tf.keras.layers.Conv2D(32, (3,3), padding='same', activation='relu'),\n",
        "  # max-выборка: (7,7,64) -> (3,3,64)\n",
        "  tf.keras.layers.MaxPool2D((2,2)),\n",
        "\n",
        "  # Четвертый сверточный слой\n",
        "  # Форма тензора на входе (,7,7,32) -> (7,7,64)\n",
        "  tf.keras.layers.Conv2D(32, (3,3), padding='same', activation='relu'),\n",
        "  # max-выборка: (7,7,64) -> (3,3,64)\n",
        "  tf.keras.layers.MaxPool2D((2,2)),\n",
        "\n",
        "\n",
        "  # Заканчиваем сеть персептроном\n",
        "  # На входе (,5,5,32) -> (,800)\n",
        "  tf.keras.layers.Flatten(),\n",
        "  # На входе (,5408) -> (,128)\n",
        "  tf.keras.layers.Dense(128, activation='relu'),\n",
        "  tf.keras.layers.Dropout(0.2),\n",
        "  # На входе (,128) -> (,10)\n",
        "  tf.keras.layers.Dense(10, activation='softmax')\n",
        "\n",
        "])\n",
        "\n",
        "model_6.compile(optimizer='adam',\n",
        "              loss='sparse_categorical_crossentropy',\n",
        "              metrics=['accuracy'])"
      ],
      "metadata": {
        "id": "Qx9wlFHp418w"
      },
      "execution_count": null,
      "outputs": []
    },
    {
      "cell_type": "code",
      "source": [
        "model_6.summary()"
      ],
      "metadata": {
        "colab": {
          "base_uri": "https://localhost:8080/"
        },
        "id": "hOLJDcYD488u",
        "outputId": "5d0d6684-77a2-4362-a1bb-f4b0822ea02f"
      },
      "execution_count": null,
      "outputs": [
        {
          "output_type": "stream",
          "name": "stdout",
          "text": [
            "Model: \"sequential\"\n",
            "_________________________________________________________________\n",
            " Layer (type)                Output Shape              Param #   \n",
            "=================================================================\n",
            " conv2d (Conv2D)             (None, 28, 28, 32)        320       \n",
            "                                                                 \n",
            " max_pooling2d (MaxPooling2D  (None, 14, 14, 32)       0         \n",
            " )                                                               \n",
            "                                                                 \n",
            " conv2d_1 (Conv2D)           (None, 14, 14, 32)        9248      \n",
            "                                                                 \n",
            " max_pooling2d_1 (MaxPooling  (None, 7, 7, 32)         0         \n",
            " 2D)                                                             \n",
            "                                                                 \n",
            " conv2d_2 (Conv2D)           (None, 7, 7, 32)          9248      \n",
            "                                                                 \n",
            " max_pooling2d_2 (MaxPooling  (None, 3, 3, 32)         0         \n",
            " 2D)                                                             \n",
            "                                                                 \n",
            " conv2d_3 (Conv2D)           (None, 3, 3, 32)          9248      \n",
            "                                                                 \n",
            " max_pooling2d_3 (MaxPooling  (None, 1, 1, 32)         0         \n",
            " 2D)                                                             \n",
            "                                                                 \n",
            " flatten (Flatten)           (None, 32)                0         \n",
            "                                                                 \n",
            " dense (Dense)               (None, 128)               4224      \n",
            "                                                                 \n",
            " dropout (Dropout)           (None, 128)               0         \n",
            "                                                                 \n",
            " dense_1 (Dense)             (None, 10)                1290      \n",
            "                                                                 \n",
            "=================================================================\n",
            "Total params: 33,578\n",
            "Trainable params: 33,578\n",
            "Non-trainable params: 0\n",
            "_________________________________________________________________\n"
          ]
        }
      ]
    },
    {
      "cell_type": "code",
      "source": [
        "x_train_4d = x_train.reshape(-1, 28, 28, 1),\n",
        "x_test_4d = x_test.reshape(-1, 28, 28, 1)\n",
        "model_6.fit(x_train_4d, y_train, epochs=7)\n",
        "model_6.evaluate(x_test_4d, y_test)"
      ],
      "metadata": {
        "colab": {
          "base_uri": "https://localhost:8080/"
        },
        "id": "J5XQEuyB49Qi",
        "outputId": "3b807d87-e237-4960-f28b-4fa7fe02710c"
      },
      "execution_count": null,
      "outputs": [
        {
          "output_type": "stream",
          "name": "stdout",
          "text": [
            "Epoch 1/7\n",
            "1875/1875 [==============================] - 20s 5ms/step - loss: 0.2276 - accuracy: 0.9269\n",
            "Epoch 2/7\n",
            "1875/1875 [==============================] - 8s 4ms/step - loss: 0.0627 - accuracy: 0.9812\n",
            "Epoch 3/7\n",
            "1875/1875 [==============================] - 9s 5ms/step - loss: 0.0459 - accuracy: 0.9857\n",
            "Epoch 4/7\n",
            "1875/1875 [==============================] - 9s 5ms/step - loss: 0.0369 - accuracy: 0.9884\n",
            "Epoch 5/7\n",
            "1875/1875 [==============================] - 8s 4ms/step - loss: 0.0318 - accuracy: 0.9902\n",
            "Epoch 6/7\n",
            "1875/1875 [==============================] - 9s 5ms/step - loss: 0.0276 - accuracy: 0.9916\n",
            "Epoch 7/7\n",
            "1875/1875 [==============================] - 9s 5ms/step - loss: 0.0233 - accuracy: 0.9922\n",
            "313/313 [==============================] - 1s 3ms/step - loss: 0.0356 - accuracy: 0.9897\n"
          ]
        },
        {
          "output_type": "execute_result",
          "data": {
            "text/plain": [
              "[0.03558221086859703, 0.9897000193595886]"
            ]
          },
          "metadata": {},
          "execution_count": 6
        }
      ]
    },
    {
      "cell_type": "code",
      "source": [
        "acc_train = model_6.evaluate(x_train_4d, y_train)[1]\n",
        "acc_test = model_6.evaluate(x_test_4d, y_test)[1]\n",
        "print(f\"Accuracy на обучающей выборке {acc_train:.4}, на тестовой {acc_test:.4}\")"
      ],
      "metadata": {
        "id": "6E1HuPLL49cc"
      },
      "execution_count": null,
      "outputs": []
    },
    {
      "cell_type": "markdown",
      "source": [
        "# **ОБУЧЕНИЕ НА ДРУГОМ ДАТАСЕТЕ**\n"
      ],
      "metadata": {
        "id": "k2Ttqk8x5QNT"
      }
    },
    {
      "cell_type": "code",
      "source": [
        "(x_train, y_train), (x_test, y_test) = tf.keras.datasets.fashion_mnist.load_data()\n",
        "x_train, x_test = x_train / 255.0, x_test / 255.0  ## Нормализуем значения яркости, что бы вписать их в диапазон 0..1\n",
        "print(f\"Количество изображений обучающих: {len(x_train)}, тестовых {len(x_test)}, размер изображений {x_train.shape[1]}x{x_train.shape[2]}\")"
      ],
      "metadata": {
        "colab": {
          "base_uri": "https://localhost:8080/"
        },
        "id": "G_67UKpD5sf_",
        "outputId": "0f0a5c96-26e9-4ced-b42a-b2bfe7117d72"
      },
      "execution_count": null,
      "outputs": [
        {
          "output_type": "stream",
          "name": "stdout",
          "text": [
            "Количество изображений обучающих: 60000, тестовых 10000, размер изображений 28x28\n"
          ]
        }
      ]
    },
    {
      "cell_type": "code",
      "source": [
        "for i in range(10):\n",
        "  plt.subplot(1,10,i+1)\n",
        "  plt.imshow(x_test[i])\n",
        "  plt.title(y_test[i])\n",
        "plt.show()"
      ],
      "metadata": {
        "colab": {
          "base_uri": "https://localhost:8080/",
          "height": 125
        },
        "id": "DEsn4Luq-PDI",
        "outputId": "0ec83206-e09f-4b2d-d21b-8f9b976d452c"
      },
      "execution_count": null,
      "outputs": [
        {
          "output_type": "display_data",
          "data": {
            "text/plain": [
              "<Figure size 640x480 with 10 Axes>"
            ],
            "image/png": "[encoded data removed]"
          },
          "metadata": {}
        }
      ]
    },
    {
      "cell_type": "code",
      "source": [
        "x_train_4d = x_train.reshape(-1, 28, 28, 1),\n",
        "x_test_4d = x_test.reshape(-1, 28, 28, 1)"
      ],
      "metadata": {
        "id": "nWsR8am-_jlO"
      },
      "execution_count": null,
      "outputs": []
    },
    {
      "cell_type": "code",
      "source": [
        "model_fashion= tf.keras.models.Sequential([\n",
        "  # Cверточный слой: размер ядра 3*3, 1 канал на входе, 64 на выходе.\n",
        "  # Форма тензора на входе (,28,28,1) трансформируется в (26,26,32)\n",
        "  tf.keras.layers.Conv2D(32, (3,3), padding='same', input_shape=(28, 28, 1), activation='relu'),\n",
        "  # Слой max-выборки: размер ядра 2*2\n",
        "  # Форма тензора на входе (,26,26,32) трансформируется в (13,13,32)\n",
        "  tf.keras.layers.MaxPool2D((2,2)),\n",
        "\n",
        "  # Второй сверточный слой\n",
        "  # Форма тензора на входе (,13,13,32) -> (11,11,64)\n",
        "  tf.keras.layers.Conv2D(32, (3,3), padding='same', activation='relu'),\n",
        "  # max-выборка: (,11,11,64) -> (5,5,64)\n",
        "  tf.keras.layers.MaxPool2D((2,2)),\n",
        "\n",
        "  # Заканчиваем сеть персептроном\n",
        "  # На входе (,5,5,32) -> (,800)\n",
        "  tf.keras.layers.Flatten(),\n",
        "  # На входе (,5408) -> (,128)\n",
        "  tf.keras.layers.Dense(128, activation='relu'),\n",
        "  tf.keras.layers.Dropout(0.2),\n",
        "  # На входе (,128) -> (,10)\n",
        "  tf.keras.layers.Dense(10, activation='softmax')\n",
        "\n",
        "])\n",
        "\n",
        "model_fashion.compile(optimizer='adam',\n",
        "              loss='sparse_categorical_crossentropy',\n",
        "              metrics=['accuracy'])"
      ],
      "metadata": {
        "id": "SffjphGR-VOn"
      },
      "execution_count": null,
      "outputs": []
    },
    {
      "cell_type": "code",
      "source": [
        "model_fashion.summary()"
      ],
      "metadata": {
        "colab": {
          "base_uri": "https://localhost:8080/"
        },
        "id": "3YzoMaLE-ufu",
        "outputId": "f7cd8b5b-0477-4687-ea93-bf7a3aa1542a"
      },
      "execution_count": null,
      "outputs": [
        {
          "output_type": "stream",
          "name": "stdout",
          "text": [
            "Model: \"sequential_14\"\n",
            "_________________________________________________________________\n",
            " Layer (type)                Output Shape              Param #   \n",
            "=================================================================\n",
            " conv2d_34 (Conv2D)          (None, 28, 28, 32)        320       \n",
            "                                                                 \n",
            " max_pooling2d_34 (MaxPoolin  (None, 14, 14, 32)       0         \n",
            " g2D)                                                            \n",
            "                                                                 \n",
            " conv2d_35 (Conv2D)          (None, 14, 14, 32)        9248      \n",
            "                                                                 \n",
            " max_pooling2d_35 (MaxPoolin  (None, 7, 7, 32)         0         \n",
            " g2D)                                                            \n",
            "                                                                 \n",
            " flatten_14 (Flatten)        (None, 1568)              0         \n",
            "                                                                 \n",
            " dense_28 (Dense)            (None, 128)               200832    \n",
            "                                                                 \n",
            " dropout_14 (Dropout)        (None, 128)               0         \n",
            "                                                                 \n",
            " dense_29 (Dense)            (None, 10)                1290      \n",
            "                                                                 \n",
            "=================================================================\n",
            "Total params: 211,690\n",
            "Trainable params: 211,690\n",
            "Non-trainable params: 0\n",
            "_________________________________________________________________\n"
          ]
        }
      ]
    },
    {
      "cell_type": "code",
      "source": [
        "model_fashion.fit(x_train_4d, y_train, epochs=10)"
      ],
      "metadata": {
        "colab": {
          "base_uri": "https://localhost:8080/"
        },
        "id": "Z8-wA9DN-9N-",
        "outputId": "73437903-2aac-4fc3-f9cc-6bd25848bacf"
      },
      "execution_count": null,
      "outputs": [
        {
          "output_type": "stream",
          "name": "stdout",
          "text": [
            "Epoch 1/10\n",
            "1875/1875 [==============================] - 7s 4ms/step - loss: 0.1822 - accuracy: 0.9329\n",
            "Epoch 2/10\n",
            "1875/1875 [==============================] - 6s 3ms/step - loss: 0.1676 - accuracy: 0.9369\n",
            "Epoch 3/10\n",
            "1875/1875 [==============================] - 7s 4ms/step - loss: 0.1526 - accuracy: 0.9424\n",
            "Epoch 4/10\n",
            "1875/1875 [==============================] - 6s 3ms/step - loss: 0.1374 - accuracy: 0.9491\n",
            "Epoch 5/10\n",
            "1875/1875 [==============================] - 7s 4ms/step - loss: 0.1255 - accuracy: 0.9521\n",
            "Epoch 6/10\n",
            "1875/1875 [==============================] - 7s 3ms/step - loss: 0.1165 - accuracy: 0.9558\n",
            "Epoch 7/10\n",
            "1875/1875 [==============================] - 7s 4ms/step - loss: 0.1077 - accuracy: 0.9584\n",
            "Epoch 8/10\n",
            "1875/1875 [==============================] - 7s 4ms/step - loss: 0.1000 - accuracy: 0.9622\n",
            "Epoch 9/10\n",
            "1875/1875 [==============================] - 6s 3ms/step - loss: 0.0927 - accuracy: 0.9648\n",
            "Epoch 10/10\n",
            "1875/1875 [==============================] - 8s 4ms/step - loss: 0.0854 - accuracy: 0.9676\n"
          ]
        },
        {
          "output_type": "execute_result",
          "data": {
            "text/plain": [
              "<keras.callbacks.History at 0x7fca576cbca0>"
            ]
          },
          "metadata": {},
          "execution_count": 54
        }
      ]
    },
    {
      "cell_type": "code",
      "source": [
        "acc_train = model_fashion.evaluate(x_train_4d, y_train)[1]\n",
        "acc_test = model_fashion.evaluate(x_test_4d, y_test)[1]\n",
        "print(f\"Accuracy на обучающей выборке {acc_train:.4}, на тестовой {acc_test:.4}\")"
      ],
      "metadata": {
        "id": "rR_duy58_xy6"
      },
      "execution_count": null,
      "outputs": []
    }
  ]
}